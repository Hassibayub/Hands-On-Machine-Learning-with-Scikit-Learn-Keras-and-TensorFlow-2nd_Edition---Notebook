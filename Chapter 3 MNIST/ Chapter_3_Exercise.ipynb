{
  "nbformat": 4,
  "nbformat_minor": 0,
  "metadata": {
    "colab": {
      "name": "Chapter 3: Exercise",
      "provenance": [],
      "collapsed_sections": [],
      "authorship_tag": "ABX9TyN7zuYw5Kk0kQQmvitkxAFZ",
      "include_colab_link": true
    },
    "kernelspec": {
      "name": "python3",
      "display_name": "Python 3"
    }
  },
  "cells": [
    {
      "cell_type": "markdown",
      "metadata": {
        "id": "view-in-github",
        "colab_type": "text"
      },
      "source": [
        "<a href=\"https://colab.research.google.com/github/Hassibayub/Hands-On-Machine-Learning-with-Scikit-Learn-Keras-and-TensorFlow-2nd_Edition---Notebook/blob/master/Chapter%203%20MNIST/%20Chapter_3_Exercise.ipynb\" target=\"_parent\"><img src=\"https://colab.research.google.com/assets/colab-badge.svg\" alt=\"Open In Colab\"/></a>"
      ]
    },
    {
      "cell_type": "code",
      "metadata": {
        "id": "elViqo6HCG7a",
        "colab_type": "code",
        "colab": {
          "base_uri": "https://localhost:8080/",
          "height": 50
        },
        "outputId": "f9320f7b-f01b-4b60-d856-0e647236c586"
      },
      "source": [
        "!nvidia-smi"
      ],
      "execution_count": 1,
      "outputs": [
        {
          "output_type": "stream",
          "text": [
            "NVIDIA-SMI has failed because it couldn't communicate with the NVIDIA driver. Make sure that the latest NVIDIA driver is installed and running.\n",
            "\n"
          ],
          "name": "stdout"
        }
      ]
    },
    {
      "cell_type": "code",
      "metadata": {
        "id": "ljHvxWqVl9-K",
        "colab_type": "code",
        "colab": {}
      },
      "source": [
        "import numpy as np\n",
        "import sklearn\n",
        "from sklearn.datasets import fetch_openml\n",
        "from sklearn.model_selection import train_test_split\n",
        "import matplotlib.pyplot as plt\n",
        "from sklearn.neighbors import KNeighborsClassifier\n",
        "from sklearn.model_selection import cross_val_score\n",
        "from sklearn.model_selection import GridSearchCV\n",
        "\n",
        "plt.rcParams['figure.figsize'] = (10,8)"
      ],
      "execution_count": 1,
      "outputs": []
    },
    {
      "cell_type": "markdown",
      "metadata": {
        "id": "qIZTN07cvm9F",
        "colab_type": "text"
      },
      "source": [
        "## Question 1. Try to build a classifier for the MNIST dataset that achieves over 97% accuracy on the `KNeighborsClassifier` test set. Hint: the works quite well for this task; you just need to find good hyperparameter values (try a grid search on the `weight` and `n_neighbor` hyperparameters).\n"
      ]
    },
    {
      "cell_type": "code",
      "metadata": {
        "id": "CLkGsG01mLTV",
        "colab_type": "code",
        "colab": {}
      },
      "source": [
        "# fetch MNIST datset\n",
        "data = fetch_openml('mnist_784', version=1)"
      ],
      "execution_count": 3,
      "outputs": []
    },
    {
      "cell_type": "code",
      "metadata": {
        "id": "NCgtoi32u76G",
        "colab_type": "code",
        "colab": {
          "base_uri": "https://localhost:8080/",
          "height": 134
        },
        "outputId": "dc9df8f8-db2b-48ae-ded6-6c2f2749510e"
      },
      "source": [
        "data.data"
      ],
      "execution_count": 4,
      "outputs": [
        {
          "output_type": "execute_result",
          "data": {
            "text/plain": [
              "array([[0., 0., 0., ..., 0., 0., 0.],\n",
              "       [0., 0., 0., ..., 0., 0., 0.],\n",
              "       [0., 0., 0., ..., 0., 0., 0.],\n",
              "       ...,\n",
              "       [0., 0., 0., ..., 0., 0., 0.],\n",
              "       [0., 0., 0., ..., 0., 0., 0.],\n",
              "       [0., 0., 0., ..., 0., 0., 0.]])"
            ]
          },
          "metadata": {
            "tags": []
          },
          "execution_count": 4
        }
      ]
    },
    {
      "cell_type": "code",
      "metadata": {
        "id": "mSV0zZgfu8cL",
        "colab_type": "code",
        "colab": {
          "base_uri": "https://localhost:8080/",
          "height": 34
        },
        "outputId": "54e14158-1cd5-4585-c930-97ff0eddb621"
      },
      "source": [
        "data.target"
      ],
      "execution_count": 5,
      "outputs": [
        {
          "output_type": "execute_result",
          "data": {
            "text/plain": [
              "array(['5', '0', '4', ..., '4', '5', '6'], dtype=object)"
            ]
          },
          "metadata": {
            "tags": []
          },
          "execution_count": 5
        }
      ]
    },
    {
      "cell_type": "code",
      "metadata": {
        "id": "WmgnDO2gvZfX",
        "colab_type": "code",
        "colab": {}
      },
      "source": [
        "X, y = data.data, data.target"
      ],
      "execution_count": 6,
      "outputs": []
    },
    {
      "cell_type": "code",
      "metadata": {
        "id": "KZjjuMYNveUR",
        "colab_type": "code",
        "colab": {
          "base_uri": "https://localhost:8080/",
          "height": 982
        },
        "outputId": "d73cd5ce-4d80-4269-a29a-6ae4eea12812"
      },
      "source": [
        "# split data train/test\n",
        "x_train, x_test, y_train, y_test = train_test_split(X, y, test_size = 0.3 ,random_state = 42)\n",
        "plt.imshow(x_train[4].reshape(28,28), cmap='binary')\n",
        "plt.show()\n",
        "print(y_train[4])\n",
        "\n",
        "plt.imshow(x_test[7].reshape(28,28), cmap='binary')\n",
        "plt.show()\n",
        "print(y_test[7])"
      ],
      "execution_count": 7,
      "outputs": [
        {
          "output_type": "display_data",
          "data": {
            "image/png": "[encoded data removed]",
            "text/plain": [
              "<Figure size 720x576 with 1 Axes>"
            ]
          },
          "metadata": {
            "tags": [],
            "needs_background": "light"
          }
        },
        {
          "output_type": "stream",
          "text": [
            "7\n"
          ],
          "name": "stdout"
        },
        {
          "output_type": "display_data",
          "data": {
            "image/png": "[encoded data removed]",
            "text/plain": [
              "<Figure size 720x576 with 1 Axes>"
            ]
          },
          "metadata": {
            "tags": [],
            "needs_background": "light"
          }
        },
        {
          "output_type": "stream",
          "text": [
            "2\n"
          ],
          "name": "stdout"
        }
      ]
    },
    {
      "cell_type": "code",
      "metadata": {
        "id": "bJdgyuHivimZ",
        "colab_type": "code",
        "colab": {
          "base_uri": "https://localhost:8080/",
          "height": 34
        },
        "outputId": "207b5e22-7d6a-4d26-85f1-a47b4b38c0bb"
      },
      "source": [
        "y_test, y_train = y_test.astype(np.uint8), y_train.astype(np.uint8)\n",
        "y_test[7]"
      ],
      "execution_count": 8,
      "outputs": [
        {
          "output_type": "execute_result",
          "data": {
            "text/plain": [
              "2"
            ]
          },
          "metadata": {
            "tags": []
          },
          "execution_count": 8
        }
      ]
    },
    {
      "cell_type": "code",
      "metadata": {
        "id": "EL0VObibxUjU",
        "colab_type": "code",
        "colab": {}
      },
      "source": [
        "## KNN classifier as in question\n",
        "\n",
        "knnclf = KNeighborsClassifier()"
      ],
      "execution_count": 9,
      "outputs": []
    },
    {
      "cell_type": "code",
      "metadata": {
        "id": "P8wEaGyyzULa",
        "colab_type": "code",
        "colab": {
          "base_uri": "https://localhost:8080/",
          "height": 34
        },
        "outputId": "f01f967d-756a-4cca-eb3e-3ee9d76522c8"
      },
      "source": [
        "y_train"
      ],
      "execution_count": 10,
      "outputs": [
        {
          "output_type": "execute_result",
          "data": {
            "text/plain": [
              "array([0, 4, 4, ..., 1, 0, 0], dtype=uint8)"
            ]
          },
          "metadata": {
            "tags": []
          },
          "execution_count": 10
        }
      ]
    },
    {
      "cell_type": "code",
      "metadata": {
        "id": "fUhKvbKWx6mY",
        "colab_type": "code",
        "colab": {
          "base_uri": "https://localhost:8080/",
          "height": 67
        },
        "outputId": "42cd6ae4-3af8-40ad-a072-c26b5dc1514c"
      },
      "source": [
        "knnclf.fit(x_train, y_train)"
      ],
      "execution_count": 11,
      "outputs": [
        {
          "output_type": "execute_result",
          "data": {
            "text/plain": [
              "KNeighborsClassifier(algorithm='auto', leaf_size=30, metric='minkowski',\n",
              "                     metric_params=None, n_jobs=None, n_neighbors=5, p=2,\n",
              "                     weights='uniform')"
            ]
          },
          "metadata": {
            "tags": []
          },
          "execution_count": 11
        }
      ]
    },
    {
      "cell_type": "code",
      "metadata": {
        "id": "ABrOQXIczBTq",
        "colab_type": "code",
        "colab": {
          "base_uri": "https://localhost:8080/",
          "height": 34
        },
        "outputId": "90d0ac48-efff-4d0e-9b5d-c9a8caac5881"
      },
      "source": [
        "somedigit = x_test[7]\n",
        "val = knnclf.predict([somedigit])\n",
        "print(y_test[7], val)"
      ],
      "execution_count": 12,
      "outputs": [
        {
          "output_type": "stream",
          "text": [
            "2 [2]\n"
          ],
          "name": "stdout"
        }
      ]
    },
    {
      "cell_type": "code",
      "metadata": {
        "id": "6lNheJ-Wz0ga",
        "colab_type": "code",
        "colab": {}
      },
      "source": [
        "# cross_val_score(knnclf, x_train, y_train, cv=3, scoring='accuracy')\n",
        "# output: array([0.96583813, 0.96632584, 0.96491765])"
      ],
      "execution_count": 13,
      "outputs": []
    },
    {
      "cell_type": "code",
      "metadata": {
        "id": "ZAAyjV-J3TTa",
        "colab_type": "code",
        "colab": {}
      },
      "source": [
        "parameters = {\n",
        "    'n_neighbors':[1,3,5],\n",
        "    'weights':['uniform', 'distance']\n",
        "}\n",
        "gscv = GridSearchCV(knnclf, param_grid=parameters, scoring='accuracy', verbose=10, cv=3)\n"
      ],
      "execution_count": 14,
      "outputs": []
    },
    {
      "cell_type": "code",
      "metadata": {
        "id": "ugWitY94-0-A",
        "colab_type": "code",
        "colab": {}
      },
      "source": [
        "# gscv.fit(x_train, y_train)\n",
        "# gscv.best_estimator_"
      ],
      "execution_count": 15,
      "outputs": []
    },
    {
      "cell_type": "markdown",
      "metadata": {
        "id": "XqSzWJNSdcW7",
        "colab_type": "text"
      },
      "source": [
        "## 2. Write a function that can shift an MNIST image in any direction (left, right, up, or down) by one pixel.5 Then, for each image in the training set, create four shifted copies (one per direction) and add them to the training set. Finally, train your best model on this expanded training set and measure its accuracy on the test set. You should observe that your model performs even better now! This technique of artificially growing the training set is called data augmentation or training set expansion"
      ]
    },
    {
      "cell_type": "code",
      "metadata": {
        "id": "Q7FVPhsAc1IP",
        "colab_type": "code",
        "colab": {
          "base_uri": "https://localhost:8080/",
          "height": 483
        },
        "outputId": "805f421a-6d2a-4717-ea79-f4d4774082a9"
      },
      "source": [
        "sample = X[55]\n",
        "sample = np.roll(sample, 5)\n",
        "sample = sample.reshape(28,28)\n",
        "plt.imshow(sample, cmap='binary')\n",
        "plt.show()"
      ],
      "execution_count": 16,
      "outputs": [
        {
          "output_type": "display_data",
          "data": {
            "image/png": "[encoded data removed]",
            "text/plain": [
              "<Figure size 720x576 with 1 Axes>"
            ]
          },
          "metadata": {
            "tags": [],
            "needs_background": "light"
          }
        }
      ]
    },
    {
      "cell_type": "code",
      "metadata": {
        "id": "2vVdu7C4gp-f",
        "colab_type": "code",
        "colab": {
          "base_uri": "https://localhost:8080/",
          "height": 34
        },
        "outputId": "ac5e5fd2-a293-4430-8bfd-8dcb02503a35"
      },
      "source": [
        "a = X[55].shape\n",
        "b = X[55].reshape(28,28).reshape(-1).shape\n",
        "np.equal(a,b)"
      ],
      "execution_count": 17,
      "outputs": [
        {
          "output_type": "execute_result",
          "data": {
            "text/plain": [
              "array([ True])"
            ]
          },
          "metadata": {
            "tags": []
          },
          "execution_count": 17
        }
      ]
    },
    {
      "cell_type": "code",
      "metadata": {
        "id": "BZLKhhKrhBf3",
        "colab_type": "code",
        "colab": {}
      },
      "source": [
        "# image agumentation definition\n",
        "\n",
        "def shift_right(img):\n",
        "    img = img.reshape(28,28)\n",
        "    img = np.roll(img, 2)\n",
        "    img = img.reshape(1, -1)\n",
        "    return img\n",
        "\n",
        "def shift_left(img):\n",
        "    img = img.reshape(28,28)\n",
        "    img = np.roll(img, -2)\n",
        "    img = img.reshape(1, -1)\n",
        "    return img\n",
        "\n",
        "def shift_up(img):\n",
        "    img = img.reshape(28,28)\n",
        "    img = np.rot90(img)\n",
        "    img = np.roll(img, -2)\n",
        "    img = np.rot90(img, 3)\n",
        "    img = img.reshape(1, -1)\n",
        "    return img\n",
        "\n",
        "def shift_down(img):\n",
        "    img = img.reshape(28,28)\n",
        "    img = np.rot90(img)\n",
        "    img = np.roll(img, 2)\n",
        "    img = np.rot90(img, 3)\n",
        "    img = img.reshape(1, -1)\n",
        "    return img"
      ],
      "execution_count": 18,
      "outputs": []
    },
    {
      "cell_type": "code",
      "metadata": {
        "id": "k3Z-uBYrSZxx",
        "colab_type": "code",
        "colab": {
          "base_uri": "https://localhost:8080/",
          "height": 34
        },
        "outputId": "83e9d10d-dadf-46f5-bf26-27ce18ce8dd9"
      },
      "source": [
        "images, labels = X.copy(), y\n",
        "images.shape, labels.shape"
      ],
      "execution_count": 19,
      "outputs": [
        {
          "output_type": "execute_result",
          "data": {
            "text/plain": [
              "((70000, 784), (70000,))"
            ]
          },
          "metadata": {
            "tags": []
          },
          "execution_count": 19
        }
      ]
    },
    {
      "cell_type": "code",
      "metadata": {
        "id": "_r197tiJaJZj",
        "colab_type": "code",
        "colab": {}
      },
      "source": [
        "# from concurrent.futures import ThreadPoolExecutor\n",
        "\n",
        "# def augmentation(img, lab):\n",
        "#     np.append(X, shift_right(img), axis=0)\n",
        "#     np.append(y, lab)\n",
        "#     np.append(X, shift_left(img), axis=0)\n",
        "#     np.append(y, lab)\n",
        "#     np.append(X, shift_up(img), axis=0)\n",
        "#     np.append(y, lab)\n",
        "#     np.append(X, shift_down(img), axis=0)\n",
        "#     np.append(y, lab)\n",
        "\n",
        "# with ThreadPoolExecutor() as ex:\n",
        "#     ex.map(augmentation, args=[img, lab]) "
      ],
      "execution_count": 20,
      "outputs": []
    },
    {
      "cell_type": "code",
      "metadata": {
        "id": "QreZm6tjSlm1",
        "colab_type": "code",
        "colab": {}
      },
      "source": [
        "# for i in range(len(images)):\n",
        "\n",
        "#     img, lab = images[i], labels[i]\n",
        "\n",
        "#     images = np.append(images, shift_right(img), axis=0)\n",
        "#     labels = np.append(labels, lab)\n",
        "#     images = np.append(images, shift_left(img), axis=0)\n",
        "#     labels = np.append(labels, lab)\n",
        "#     images = np.append(images, shift_up(img), axis=0)\n",
        "#     labels = np.append(labels, lab)\n",
        "#     images = np.append(images, shift_down(img), axis=0)\n",
        "#     labels = np.append(labels, lab) \n",
        "\n",
        "#     print(f\">>>>> END {i} <<<<<<<\")\n"
      ],
      "execution_count": 21,
      "outputs": []
    },
    {
      "cell_type": "code",
      "metadata": {
        "id": "NkgapudzUYyN",
        "colab_type": "code",
        "colab": {
          "base_uri": "https://localhost:8080/",
          "height": 34
        },
        "outputId": "fd68694c-488f-43bf-f30d-2b0a21dda1a0"
      },
      "source": [
        "images.shape, labels.shape"
      ],
      "execution_count": 22,
      "outputs": [
        {
          "output_type": "execute_result",
          "data": {
            "text/plain": [
              "((70000, 784), (70000,))"
            ]
          },
          "metadata": {
            "tags": []
          },
          "execution_count": 22
        }
      ]
    },
    {
      "cell_type": "code",
      "metadata": {
        "id": "_KzK_KGGkEgA",
        "colab_type": "code",
        "colab": {
          "base_uri": "https://localhost:8080/",
          "height": 501
        },
        "outputId": "5de5fdc9-16ad-463d-d94a-44f0c5383bfc"
      },
      "source": [
        "number = 7866\n",
        "plt.imshow(images[number].reshape(28,28))\n",
        "plt.show()\n",
        "labels[number]"
      ],
      "execution_count": 23,
      "outputs": [
        {
          "output_type": "display_data",
          "data": {
            "image/png": "[encoded data removed]",
            "text/plain": [
              "<Figure size 720x576 with 1 Axes>"
            ]
          },
          "metadata": {
            "tags": [],
            "needs_background": "light"
          }
        },
        {
          "output_type": "execute_result",
          "data": {
            "application/vnd.google.colaboratory.intrinsic+json": {
              "type": "string"
            },
            "text/plain": [
              "'7'"
            ]
          },
          "metadata": {
            "tags": []
          },
          "execution_count": 23
        }
      ]
    },
    {
      "cell_type": "code",
      "metadata": {
        "id": "lw0lOjcK5LYM",
        "colab_type": "code",
        "colab": {
          "base_uri": "https://localhost:8080/",
          "height": 34
        },
        "outputId": "721dcac8-b753-4ccc-c0c3-fabc6ce356ca"
      },
      "source": [
        "len(images)"
      ],
      "execution_count": 24,
      "outputs": [
        {
          "output_type": "execute_result",
          "data": {
            "text/plain": [
              "70000"
            ]
          },
          "metadata": {
            "tags": []
          },
          "execution_count": 24
        }
      ]
    },
    {
      "cell_type": "code",
      "metadata": {
        "id": "yOAfNuCs5EU8",
        "colab_type": "code",
        "colab": {
          "base_uri": "https://localhost:8080/",
          "height": 34
        },
        "outputId": "2cd2a184-a524-4565-efe9-f1e8e1fb81f5"
      },
      "source": [
        "limit = 94921\n",
        "x_train, x_test = images[:limit], images[limit:]\n",
        "y_train, y_test = labels[:limit], labels[limit:]\n",
        "\n",
        "\n",
        "print(x_train.shape, y_train.shape, x_test.shape, y_test.shape)"
      ],
      "execution_count": 25,
      "outputs": [
        {
          "output_type": "stream",
          "text": [
            "(70000, 784) (70000,) (0, 784) (0,)\n"
          ],
          "name": "stdout"
        }
      ]
    },
    {
      "cell_type": "code",
      "metadata": {
        "id": "ziEmTbwIkZIT",
        "colab_type": "code",
        "colab": {}
      },
      "source": [
        "# cross_val_score(knnclf, x_train, y_train, cv=3, scoring='accuracy')\n",
        "# output: array([0.96649916, 0.96510746, 0.81046144])"
      ],
      "execution_count": null,
      "outputs": []
    },
    {
      "cell_type": "code",
      "metadata": {
        "id": "4JLojDD259qV",
        "colab_type": "code",
        "colab": {}
      },
      "source": [
        ""
      ],
      "execution_count": null,
      "outputs": []
    },
    {
      "cell_type": "markdown",
      "metadata": {
        "id": "Odk3_W_cDoAU",
        "colab_type": "text"
      },
      "source": [
        "## 3. Tackle the Titanic dataset. A great place to start is on Kaggle.\n"
      ]
    },
    {
      "cell_type": "code",
      "metadata": {
        "id": "E_LOd1_VDunO",
        "colab_type": "code",
        "colab": {}
      },
      "source": [
        ""
      ],
      "execution_count": null,
      "outputs": []
    }
  ]
}